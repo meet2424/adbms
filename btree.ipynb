{
  "cells": [
    {
      "cell_type": "markdown",
      "metadata": {
        "id": "VptZLRM0D0I5"
      },
      "source": [
        "B TREE"
      ]
    },
    {
      "cell_type": "code",
      "execution_count": 1,
      "metadata": {
        "id": "pvRmMUWXDySz"
      },
      "outputs": [
        {
          "name": "stdout",
          "output_type": "stream",
          "text": [
            "Collecting BTrees\n",
            "  Downloading BTrees-4.11.3-cp310-cp310-win_amd64.whl (995 kB)\n",
            "Collecting zope.interface>=5.0.0\n",
            "  Downloading zope.interface-5.5.2-cp310-cp310-win_amd64.whl (211 kB)\n",
            "Collecting persistent>=4.1.0\n",
            "  Downloading persistent-4.9.3-cp310-cp310-win_amd64.whl (159 kB)\n",
            "Collecting cffi\n",
            "  Downloading cffi-1.15.1-cp310-cp310-win_amd64.whl (179 kB)\n",
            "Requirement already satisfied: setuptools in c:\\users\\meet\\appdata\\local\\programs\\python\\python310\\lib\\site-packages (from zope.interface>=5.0.0->BTrees) (58.1.0)\n",
            "Collecting pycparser\n",
            "  Downloading pycparser-2.21-py2.py3-none-any.whl (118 kB)\n",
            "Installing collected packages: pycparser, zope.interface, cffi, persistent, BTrees\n",
            "Successfully installed BTrees-4.11.3 cffi-1.15.1 persistent-4.9.3 pycparser-2.21 zope.interface-5.5.2\n"
          ]
        },
        {
          "name": "stderr",
          "output_type": "stream",
          "text": [
            "WARNING: You are using pip version 21.2.4; however, version 22.3.1 is available.\n",
            "You should consider upgrading via the 'C:\\Users\\Meet\\AppData\\Local\\Programs\\Python\\Python310\\python.exe -m pip install --upgrade pip' command.\n"
          ]
        }
      ],
      "source": [
        "!pip install BTrees"
      ]
    },
    {
      "cell_type": "code",
      "execution_count": 5,
      "metadata": {
        "colab": {
          "base_uri": "https://localhost:8080/"
        },
        "id": "YxuM8gXgDzKo",
        "outputId": "437f9a63-080f-49e7-f657-52706bd0bbad"
      },
      "outputs": [
        {
          "name": "stdout",
          "output_type": "stream",
          "text": [
            "Insertion time: 0.000 milliseconds\n"
          ]
        },
        {
          "ename": "KeyboardInterrupt",
          "evalue": "Interrupted by user",
          "output_type": "error",
          "traceback": [
            "\u001b[1;31m---------------------------------------------------------------------------\u001b[0m",
            "\u001b[1;31mKeyboardInterrupt\u001b[0m                         Traceback (most recent call last)",
            "Cell \u001b[1;32mIn[5], line 10\u001b[0m\n\u001b[0;32m      8\u001b[0m insertion_end_time\u001b[39m=\u001b[39mtime\u001b[39m.\u001b[39mtime()\n\u001b[0;32m      9\u001b[0m \u001b[39mprint\u001b[39m(\u001b[39m\"\u001b[39m\u001b[39mInsertion time:\u001b[39m\u001b[39m\"\u001b[39m, \u001b[39mformat\u001b[39m((insertion_end_time\u001b[39m-\u001b[39minsertion_start_time)\u001b[39m*\u001b[39m\u001b[39m1000\u001b[39m, \u001b[39m\"\u001b[39m\u001b[39m.3f\u001b[39m\u001b[39m\"\u001b[39m),  \u001b[39m\"\u001b[39m\u001b[39mmilliseconds\u001b[39m\u001b[39m\"\u001b[39m)\n\u001b[1;32m---> 10\u001b[0m key \u001b[39m=\u001b[39m \u001b[39mint\u001b[39m(\u001b[39minput\u001b[39;49m(\u001b[39m\"\u001b[39;49m\u001b[39mEnter key: \u001b[39;49m\u001b[39m\"\u001b[39;49m))\n\u001b[0;32m     11\u001b[0m search_start_time \u001b[39m=\u001b[39m time\u001b[39m.\u001b[39mtime()\n\u001b[0;32m     12\u001b[0m \u001b[39mif\u001b[39;00m  t\u001b[39m.\u001b[39mhas_key(key):\n",
            "File \u001b[1;32m~\\AppData\\Roaming\\Python\\Python310\\site-packages\\ipykernel\\kernelbase.py:1175\u001b[0m, in \u001b[0;36mKernel.raw_input\u001b[1;34m(self, prompt)\u001b[0m\n\u001b[0;32m   1171\u001b[0m \u001b[39mif\u001b[39;00m \u001b[39mnot\u001b[39;00m \u001b[39mself\u001b[39m\u001b[39m.\u001b[39m_allow_stdin:\n\u001b[0;32m   1172\u001b[0m     \u001b[39mraise\u001b[39;00m StdinNotImplementedError(\n\u001b[0;32m   1173\u001b[0m         \u001b[39m\"\u001b[39m\u001b[39mraw_input was called, but this frontend does not support input requests.\u001b[39m\u001b[39m\"\u001b[39m\n\u001b[0;32m   1174\u001b[0m     )\n\u001b[1;32m-> 1175\u001b[0m \u001b[39mreturn\u001b[39;00m \u001b[39mself\u001b[39;49m\u001b[39m.\u001b[39;49m_input_request(\n\u001b[0;32m   1176\u001b[0m     \u001b[39mstr\u001b[39;49m(prompt),\n\u001b[0;32m   1177\u001b[0m     \u001b[39mself\u001b[39;49m\u001b[39m.\u001b[39;49m_parent_ident[\u001b[39m\"\u001b[39;49m\u001b[39mshell\u001b[39;49m\u001b[39m\"\u001b[39;49m],\n\u001b[0;32m   1178\u001b[0m     \u001b[39mself\u001b[39;49m\u001b[39m.\u001b[39;49mget_parent(\u001b[39m\"\u001b[39;49m\u001b[39mshell\u001b[39;49m\u001b[39m\"\u001b[39;49m),\n\u001b[0;32m   1179\u001b[0m     password\u001b[39m=\u001b[39;49m\u001b[39mFalse\u001b[39;49;00m,\n\u001b[0;32m   1180\u001b[0m )\n",
            "File \u001b[1;32m~\\AppData\\Roaming\\Python\\Python310\\site-packages\\ipykernel\\kernelbase.py:1217\u001b[0m, in \u001b[0;36mKernel._input_request\u001b[1;34m(self, prompt, ident, parent, password)\u001b[0m\n\u001b[0;32m   1214\u001b[0m             \u001b[39mbreak\u001b[39;00m\n\u001b[0;32m   1215\u001b[0m \u001b[39mexcept\u001b[39;00m \u001b[39mKeyboardInterrupt\u001b[39;00m:\n\u001b[0;32m   1216\u001b[0m     \u001b[39m# re-raise KeyboardInterrupt, to truncate traceback\u001b[39;00m\n\u001b[1;32m-> 1217\u001b[0m     \u001b[39mraise\u001b[39;00m \u001b[39mKeyboardInterrupt\u001b[39;00m(\u001b[39m\"\u001b[39m\u001b[39mInterrupted by user\u001b[39m\u001b[39m\"\u001b[39m) \u001b[39mfrom\u001b[39;00m \u001b[39mNone\u001b[39m\n\u001b[0;32m   1218\u001b[0m \u001b[39mexcept\u001b[39;00m \u001b[39mException\u001b[39;00m:\n\u001b[0;32m   1219\u001b[0m     \u001b[39mself\u001b[39m\u001b[39m.\u001b[39mlog\u001b[39m.\u001b[39mwarning(\u001b[39m\"\u001b[39m\u001b[39mInvalid Message:\u001b[39m\u001b[39m\"\u001b[39m, exc_info\u001b[39m=\u001b[39m\u001b[39mTrue\u001b[39;00m)\n",
            "\u001b[1;31mKeyboardInterrupt\u001b[0m: Interrupted by user"
          ]
        }
      ],
      "source": [
        "from BTrees.IIBTree import  IIBTree\n",
        "import time\n",
        "\n",
        "t = IIBTree()\n",
        "insertion_start_time= time.time()\n",
        "for i in range(1000):\n",
        "  t.update({i: 2*i})\n",
        "insertion_end_time=time.time()\n",
        "print(\"Insertion time:\", format((insertion_end_time-insertion_start_time)*1000, \".3f\"),  \"milliseconds\")\n",
        "key = int(input(\"Enter key: \"))\n",
        "search_start_time = time.time()\n",
        "if  t.has_key(key):\n",
        "  print(t[key])\n",
        "search_end_time = time.time()\n",
        "print(\"Search time:\", format((search_end_time-search_start_time)*1000, \".3f\"), \"milliseconds\")\n",
        " "
      ]
    },
    {
      "cell_type": "markdown",
      "metadata": {
        "id": "3aSBwk4gD_wM"
      },
      "source": [
        "B+ TREE"
      ]
    },
    {
      "cell_type": "code",
      "execution_count": null,
      "metadata": {
        "colab": {
          "base_uri": "https://localhost:8080/"
        },
        "id": "vJV8SJuXD6-F",
        "outputId": "1bfd4b41-f3e0-40d9-c5c2-d16d82e0b0e9"
      },
      "outputs": [
        {
          "name": "stdout",
          "output_type": "stream",
          "text": [
            "Looking in indexes: https://pypi.org/simple, https://us-python.pkg.dev/colab-wheels/public/simple/\n",
            "Collecting bplustree\n",
            "  Downloading bplustree-0.0.3-py3-none-any.whl (20 kB)\n",
            "Collecting rwlock\n",
            "  Downloading rwlock-0.0.7.tar.gz (2.9 kB)\n",
            "Requirement already satisfied: cachetools in /usr/local/lib/python3.8/dist-packages (from bplustree) (5.2.0)\n",
            "Building wheels for collected packages: rwlock\n",
            "  Building wheel for rwlock (setup.py) ... \u001b[?25l\u001b[?25hdone\n",
            "  Created wheel for rwlock: filename=rwlock-0.0.7-py3-none-any.whl size=3332 sha256=baa427c558e701953f2709b88d0b228e2f77c1d25c86fdfc48a648d913de9347\n",
            "  Stored in directory: /root/.cache/pip/wheels/57/56/39/2ca9f9f1c1ca88fbb33cbff1e77a231b9629b66618bf20821f\n",
            "Successfully built rwlock\n",
            "Installing collected packages: rwlock, bplustree\n",
            "Successfully installed bplustree-0.0.3 rwlock-0.0.7\n"
          ]
        }
      ],
      "source": [
        "pip install bplustree"
      ]
    },
    {
      "cell_type": "code",
      "execution_count": 13,
      "metadata": {
        "id": "Bze09IKmEFCl"
      },
      "outputs": [],
      "source": [
        "from bplustree import BPlusTree\n",
        "import time"
      ]
    },
    {
      "cell_type": "code",
      "execution_count": 7,
      "metadata": {
        "id": "j1XBtqP8EGzb"
      },
      "outputs": [],
      "source": [
        "tree = BPlusTree('./bplustree.db', order=50)"
      ]
    },
    {
      "cell_type": "code",
      "execution_count": 14,
      "metadata": {
        "colab": {
          "base_uri": "https://localhost:8080/"
        },
        "id": "nIx3SBHXEIiO",
        "outputId": "a1640b60-d234-4656-9b02-a07f442c42bc"
      },
      "outputs": [
        {
          "name": "stdout",
          "output_type": "stream",
          "text": [
            "Insertion time: 12954.698 milliseconds\n"
          ]
        }
      ],
      "source": [
        "insertion_start_time= time.time()\n",
        "for i in range(1000):\n",
        "  data=(2*i).to_bytes(10,'big')\n",
        "  tree[i]=data\n",
        "insertion_end_time=time.time()\n",
        "print(\"Insertion time:\", format((insertion_end_time-insertion_start_time)*1000, \".3f\"),  \"milliseconds\")\n"
      ]
    },
    {
      "cell_type": "code",
      "execution_count": 11,
      "metadata": {
        "colab": {
          "base_uri": "https://localhost:8080/"
        },
        "id": "Ch9l8nECEJ2P",
        "outputId": "ea41e718-8519-47eb-8f4a-6e2ae9090caa"
      },
      "outputs": [
        {
          "name": "stdout",
          "output_type": "stream",
          "text": [
            "Value :  800\n",
            "Time taken :  0.0  ms\n"
          ]
        }
      ],
      "source": [
        "data=int(input(\"Enter key : \"))\n",
        "start_time=time.time()\n",
        "byte_data=tree.get(data)\n",
        "end_time=time.time()\n",
        "int_data=int.from_bytes(byte_data, 'big')\n",
        "print(\"Value : \",int_data)\n",
        "print(\"Time taken : \",(end_time-start_time)*1000,\" ms\")"
      ]
    },
    {
      "cell_type": "code",
      "execution_count": null,
      "metadata": {
        "id": "HtfNAgp5ENQJ"
      },
      "outputs": [],
      "source": []
    }
  ],
  "metadata": {
    "colab": {
      "provenance": []
    },
    "kernelspec": {
      "display_name": "Python 3",
      "language": "python",
      "name": "python3"
    },
    "language_info": {
      "codemirror_mode": {
        "name": "ipython",
        "version": 3
      },
      "file_extension": ".py",
      "mimetype": "text/x-python",
      "name": "python",
      "nbconvert_exporter": "python",
      "pygments_lexer": "ipython3",
      "version": "3.10.2 (tags/v3.10.2:a58ebcc, Jan 17 2022, 14:12:15) [MSC v.1929 64 bit (AMD64)]"
    },
    "vscode": {
      "interpreter": {
        "hash": "b9e6cb15b86ac2757c8003d41fac53f163cb90e88454a41bdcc40095a21b5065"
      }
    }
  },
  "nbformat": 4,
  "nbformat_minor": 0
}
